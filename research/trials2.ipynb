{
 "cells": [
  {
   "cell_type": "code",
   "execution_count": 12,
   "metadata": {},
   "outputs": [],
   "source": [
    "from datasets import load_dataset\n",
    "from transformers import AutoTokenizer"
   ]
  },
  {
   "cell_type": "code",
   "execution_count": 7,
   "metadata": {},
   "outputs": [],
   "source": [
    "billsum = load_dataset(\"billsum\", split=\"ca_test\")"
   ]
  },
  {
   "cell_type": "code",
   "execution_count": 8,
   "metadata": {},
   "outputs": [],
   "source": [
    "billsum = billsum.train_test_split(test_size = 0.25)"
   ]
  },
  {
   "cell_type": "code",
   "execution_count": 11,
   "metadata": {},
   "outputs": [
    {
     "data": {
      "text/plain": [
       "{'text': 'The people of the State of California do enact as follows:\\n\\n\\nSECTION 1.\\nSection 1250.8 of the Health and Safety Code is amended to read:\\n1250.8.\\n(a) Notwithstanding subdivision (a) of Section 127170, the department, upon application of a general acute care hospital that meets all the criteria of subdivision (b), and other applicable requirements of licensure, shall issue a single consolidated license to a general acute care hospital that includes more than one physical plant maintained and operated on separate premises or that has multiple licenses for a single health facility on the same premises. A single consolidated license shall not be issued where the separate freestanding physical plant is a skilled nursing facility or an intermediate care facility, whether or not the location of the skilled nursing facility or intermediate care facility is contiguous to the general acute care hospital unless the hospital is exempt from the requirements of subdivision (b) of Section 1254, or the facility is part of the physical structure licensed to provide acute care.\\n(b) The issuance of a single consolidated license shall be based on the following criteria:\\n(1) There is a single governing body for all the facilities maintained and operated by the licensee.\\n(2) There is a single administration for all the facilities maintained and operated by the licensee.\\n(3) There is a single medical staff for all the facilities maintained and operated by the licensee, with a single set of bylaws, rules, and regulations, that prescribe a single committee structure.\\n(4) Except as provided otherwise in this paragraph, the physical plants maintained and operated by the licensee which are to be covered by the single consolidated license are located not more than 15 miles apart. If an applicant provides evidence satisfactory to the department that it can comply with all requirements of licensure and provide quality care and adequate administrative and professional supervision, the director may issue a single consolidated license to a general acute care hospital that operates two or more physical plants located more than 15 miles apart under any of the following circumstances:\\n(A) One or more of the physical plants is located in a rural area, as defined by regulations of the director.\\n(B) One or more of the physical plants provides only outpatient services, as defined by the department.\\n(C) One or more of the physical plants is an emergency department, as defined in subdivision (b) of Section 128700.\\n(D) If Section 14105.986 of the Welfare and Institutions Code is implemented and the applicant meets all of the following criteria:\\n(i) The applicant is a nonprofit corporation.\\n(ii) The applicant is a children’s hospital listed in Section 10727 of the Welfare and Institutions Code.\\n(iii) The applicant is affiliated with a major university medical school and located adjacent thereto.\\n(iv) The applicant operates a regional tertiary care facility.\\n(v) One of the physical plants is located in a county that has a consolidated and county government structure.\\n(vi) One of the physical plants is located in a county having a population between 1,000,000 and 2,000,000.\\n(vii) The applicant is located in a city with a population between 50,000 and 100,000.\\n(c) In issuing the single consolidated license, the state department shall specify the location of each supplemental service and the location of the number and category of beds provided by the licensee. The single consolidated license shall be renewed annually.\\n(d) To the extent required by Chapter 1 (commencing with Section 127125) of Part 2 of Division 107, a general acute care hospital that has been issued a single consolidated license:\\n(1) Shall not transfer from one facility to another a special service described in Section 1255 without first obtaining a certificate of need.\\n(2) Shall not transfer, in whole or in part, from one facility to another, a supplemental service, as defined in regulations of the director pursuant to this chapter, without first obtaining a certificate of need, unless the licensee, 30 days prior to the relocation, notifies the Office of Statewide Health Planning and Development, the applicable health systems agency, and the state department of the licensee’s intent to relocate the supplemental service, and includes with this notice a cost estimate, certified by a person qualified by experience or training to render the estimates, which estimates that the cost of the transfer will not exceed the capital expenditure threshold established by the Office of Statewide Health Planning and Development pursuant to Section 127170.\\n(3) Shall not transfer beds from one facility to another facility, without first obtaining a certificate of need unless, 30 days prior to the relocation, the licensee notifies the Office of Statewide Health Planning and Development, the applicable health systems agency, and the state department of the licensee’s intent to relocate health facility beds, and includes with this notice both of the following:\\n(A) A cost estimate, certified by a person qualified by experience or training to render the estimates, which estimates that the cost of the relocation will not exceed the capital expenditure threshold established by the Office of Statewide Health Planning and Development pursuant to Section 127170.\\n(B) The identification of the number, classification, and location of the health facility beds in the transferor facility and the proposed number, classification, and location of the health facility beds in the transferee facility.\\nExcept as otherwise permitted in Chapter 1 (commencing with Section 127125) of Part 2 of Division 107, or as authorized in an approved certificate of need pursuant to that chapter, health facility beds transferred pursuant to this section shall be used in the transferee facility in the same bed classification as defined in Section 1250.1, as the beds were classified in the transferor facility.\\nHealth facility beds transferred pursuant to this section shall not be transferred back to the transferor facility for two years from the date of the transfer, regardless of cost, without first obtaining a certificate of need pursuant to Chapter 1 (commencing with Section 127125) of Part 2 of Division 107.\\n(e) Transfers pursuant to subdivision (d) shall satisfy all applicable requirements of licensure and shall be subject to the written approval, if required, of the state department. The state department may adopt regulations that are necessary to implement this section. These regulations may include a requirement that each facility of a health facility subject to a single consolidated license have an onsite full-time or part-time administrator.\\n(f) As used in this section, “facility” means a physical plant operated or maintained by a health facility subject to a single, consolidated license issued pursuant to this section.\\n(g) For purposes of selective provider contracts negotiated under the Medi-Cal program, the treatment of a health facility with a single consolidated license issued pursuant to this section shall be subject to negotiation between the health facility and the California Medical Assistance Commission. A general acute care hospital that is issued a single consolidated license pursuant to this section may, at its option, be enrolled in the Medi-Cal program as a single business address or as separate business addresses for one or more of the facilities subject to the single consolidated license. Irrespective of whether the general acute care hospital is enrolled at one or more business addresses, the department may require the hospital to file separate cost reports for each facility pursuant to Section 14170 of the Welfare and Institutions Code.\\n(h) For purposes of the Annual Report of Hospitals required by regulations adopted by the state department pursuant to this part, the state department and the Office of Statewide Health Planning and Development may require reporting of bed and service utilization data separately by each facility of a general acute care hospital issued a single consolidated license pursuant to this section.\\n(i) The amendments made to this section during the 1985–86 Regular Session of the Legislature pertaining to the issuance of a single consolidated license to a general acute care hospital in the case where the separate physical plant is a skilled nursing facility or intermediate care facility shall not apply to the following facilities:\\n(1) A facility that obtained a certificate of need after August 1, 1984, and prior to February 14, 1985, as described in this subdivision. The certificate of need shall be for the construction of a skilled nursing facility or intermediate care facility that is the same facility for which the hospital applies for a single consolidated license, pursuant to subdivision (a).\\n(2) A facility for which a single consolidated license has been issued pursuant to subdivision (a), as described in this subdivision, prior to the effective date of the amendments made to this section during the 1985–86 Regular Session of the Legislature.\\nA facility that has been issued a single consolidated license pursuant to subdivision (a), as described in this subdivision, shall be granted renewal licenses based upon the same criteria used for the initial consolidated license.\\n(j) If the state department issues a single consolidated license pursuant to this section, the state department may take any action authorized by this chapter, including, but not limited to, any action specified in Article 5 (commencing with Section 1294), with respect to a facility, or a service provided in a facility, that is included in the consolidated license.\\n(k) The eligibility for participation in the Medi-Cal program (Chapter 7 (commencing with Section 14000) of Part 3 of Division 9 of the Welfare and Institutions Code) of a facility that is included in a consolidated license issued pursuant to this section, provides outpatient services, and is located more than 15 miles from the health facility issued the consolidated license shall be subject to a determination of eligibility by the state department. This subdivision shall not apply to a facility that is located in a rural area and is included in a consolidated license issued pursuant to subparagraphs (A), (B), and (C) of paragraph (4) of subdivision (b). Regardless of whether a facility has received or not received a determination of eligibility pursuant to this subdivision, this subdivision shall not affect the ability of a licensed professional, providing services covered by the Medi-Cal program to a person eligible for Medi-Cal in a facility subject to a determination of eligibility pursuant to this subdivision, to bill the Medi-Cal program for those services provided in accordance with applicable regulations.\\n(l) Notwithstanding any other provision of law, the director may issue a single consolidated license for a general acute care hospital to Children’s Hospital Oakland and San Ramon Regional Medical Center.\\n(m) Notwithstanding any other provision of law, the director may issue a single consolidated license for a general acute care hospital to Children’s Hospital Oakland and the John Muir Medical Center, Concord Campus.\\n(n) (1) To the extent permitted by federal law, payments made to Children’s Hospital Oakland pursuant to Section 14166.11 of the Welfare and Institutions Code shall be adjusted as follows:\\n(A) The number of Medi-Cal payment days and net revenues calculated for the John Muir Medical Center, Concord Campus under the consolidated license shall not be used for eligibility purposes for the private hospital disproportionate share hospital replacement funds for Children’s Hospital Oakland.\\n(B) The number of Medi-Cal payment days calculated for hospital beds located at\\nthe\\nJohn Muir Medical Center, Concord Campus that are included in the consolidated license beginning in the 2007–08 fiscal year shall only be used for purposes of calculating disproportionate share hospital payments authorized under Section 14166.11 of the Welfare and Institutions Code at Children’s Hospital Oakland to the extent that the inclusion of those days does not exceed the total Medi-Cal payment days used to calculate Children’s Hospital Oakland payments for the 2006–07 fiscal year disproportionate share replacement.\\n(2) This subdivision shall become inoperative in the event that the two facilities covered under the consolidated license described in subdivision (a) are located within a 15-mile radius of each other.\\nSEC. 2.\\nSection 1255.15 is added to the Health and Safety Code, to read:\\n1255.15.\\n(a) If a general acute care hospital (closing hospital) that provides emergency medical services pursuant to Section 1255 is either scheduled for closure or has surrendered its license for suspension or cancellation pursuant to Section 1300, the closing hospital’s emergency medical services may continue to be provided at the same location or locations by another general acute care hospital (acquiring hospital) that has a special permit to offer emergency medical services pursuant to paragraph (3) of subdivision (a) of Section 1255, notwithstanding that basic services are not offered at the closing hospital’s location or locations.\\n(b) Pursuant to subdivisions (a) and (b) of Section 1250.8, a single consolidated license shall be issued to the acquiring hospital to permit the continued provision of emergency medical services at the closing hospital’s location or locations if located not more than 15 miles apart from the acquiring hospital.\\n(c) Notwithstanding paragraph (4) of subdivision (b) of Section 1250.8, the director shall issue a single consolidated license to the acquiring hospital to permit the continued provision of emergency medical services at the closing hospital’s location or locations, even if located more than 15 miles apart from the acquiring hospital, if the acquiring hospital provides evidence satisfactory to the department that it can comply with all requirements of licensure and provide quality care and adequate administrative and professional supervision.\\nSEC. 3.\\nSection 128700 of the Health and Safety Code is amended to read:\\n128700.\\nAs used in this chapter, the following terms mean:\\n(a) “Ambulatory surgery procedures” mean those procedures performed on an outpatient basis in the general operating rooms, ambulatory surgery rooms, endoscopy units, or cardiac catheterization laboratories of a hospital or a freestanding ambulatory surgery clinic.\\n(b) “Emergency department” means,\\nin\\nwith respect to\\na hospital licensed to provide emergency medical services, the location in which those services are provided.\\n(c) “Encounter” means a face-to-face contact between a patient and the provider who has primary responsibility for assessing and treating the condition of the patient at a given contact and exercises independent judgment in the care of the patient.\\n(d) “Freestanding ambulatory surgery clinic” means a surgical clinic that is licensed by the state under paragraph (1) of subdivision (b) of Section 1204.\\n(e) “Health facility” or “health facilities” means all health facilities required to be licensed pursuant to Chapter 2 (commencing with Section 1250) of Division 2.\\n(f) “Hospital” means all health facilities except skilled nursing, intermediate care, and congregate living health facilities.\\n(g) “Office” means the Office of Statewide Health Planning and Development.\\n(h) “Risk-adjusted outcomes” means the clinical outcomes of patients grouped by diagnoses or procedures that have been adjusted for demographic and clinical factors.',\n",
       " 'summary': 'Existing law requires the State Department of Public Health to issue a single consolidated license to a general acute care hospital that includes more than one physical plant maintained and operated on separate premises if all applicable requirements of licensure, as specified, are satisfied. Under existing law, the physical plants maintained and operated under a general acute care hospital’s single consolidated license must be located no more than 15 miles apart, unless a specified exception applies.\\nThis bill would create an exception to permit a general acute care hospital to operate an emergency department located more than 15 miles from its main physical plant, if all applicable requirements of licensure are satisfied.\\nThe bill would also permit a closing general acute care hospital’s emergency department to continue to be operated at the same location or locations by an acquiring general acute care hospital, as specified. The bill would create an exception to permit the acquiring general acute care hospital to operate the closing general acute care hospital’s emergency department at that location or locations, even if located more than 15 miles from the acquiring general acute care hospital’s main physical plant, if all applicable requirements of licensure are satisfied.',\n",
       " 'title': 'An act to amend\\nSection\\nSections\\n1250.8\\nand 128700\\nof\\n, and to add Section 1255.15 to,\\nthe Health and Safety Code, relating to health facilities.'}"
      ]
     },
     "execution_count": 11,
     "metadata": {},
     "output_type": "execute_result"
    }
   ],
   "source": [
    "billsum['train'][2]"
   ]
  },
  {
   "cell_type": "code",
   "execution_count": 13,
   "metadata": {},
   "outputs": [
    {
     "name": "stderr",
     "output_type": "stream",
     "text": [
      "c:\\Users\\ABHINAV\\Desktop\\Programming\\Projects\\Briefly\\venv\\lib\\site-packages\\huggingface_hub\\file_download.py:139: UserWarning: `huggingface_hub` cache-system uses symlinks by default to efficiently store duplicated files but your machine does not support them in C:\\Users\\ABHINAV\\.cache\\huggingface\\hub\\models--google-t5--t5-small. Caching files will still work but in a degraded version that might require more space on your disk. This warning can be disabled by setting the `HF_HUB_DISABLE_SYMLINKS_WARNING` environment variable. For more details, see https://huggingface.co/docs/huggingface_hub/how-to-cache#limitations.\n",
      "To support symlinks on Windows, you either need to activate Developer Mode or to run Python as an administrator. In order to activate developer mode, see this article: https://docs.microsoft.com/en-us/windows/apps/get-started/enable-your-device-for-development\n",
      "  warnings.warn(message)\n"
     ]
    }
   ],
   "source": [
    "checkpoint = \"google-t5/t5-small\"\n",
    "tokenizer = AutoTokenizer.from_pretrained(checkpoint)"
   ]
  },
  {
   "cell_type": "code",
   "execution_count": 14,
   "metadata": {},
   "outputs": [],
   "source": [
    "prefix_prompt = \"Summarize: \""
   ]
  },
  {
   "cell_type": "code",
   "execution_count": null,
   "metadata": {},
   "outputs": [],
   "source": [
    "def preprocess_text(txt):\n",
    "    inputs = [prefix_prompt + doc for doc in txt[\"text\"]]\n",
    "    tokenix = tokenizer(inputs, max_length=1024, truncation=True)\n",
    "    labels = tokenizer(text_target=txt[\"summary\"], max_length=128, truncation=True)\n",
    "    tokenix[\"labels\"] = labels[\"input_ids\"]\n",
    "    return tokenix"
   ]
  }
 ],
 "metadata": {
  "kernelspec": {
   "display_name": "venv",
   "language": "python",
   "name": "python3"
  },
  "language_info": {
   "codemirror_mode": {
    "name": "ipython",
    "version": 3
   },
   "file_extension": ".py",
   "mimetype": "text/x-python",
   "name": "python",
   "nbconvert_exporter": "python",
   "pygments_lexer": "ipython3",
   "version": "3.10.0"
  }
 },
 "nbformat": 4,
 "nbformat_minor": 2
}
