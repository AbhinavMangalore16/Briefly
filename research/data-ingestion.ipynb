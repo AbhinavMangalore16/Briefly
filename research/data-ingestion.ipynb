{
 "cells": [
  {
   "cell_type": "code",
   "execution_count": 29,
   "metadata": {},
   "outputs": [],
   "source": [
    "import os\n",
    "import sys\n",
    "from pathlib import Path"
   ]
  },
  {
   "cell_type": "code",
   "execution_count": 30,
   "metadata": {},
   "outputs": [],
   "source": [
    "project_root = Path(__file__).parent.parent if \"__file__\" in locals() else Path().resolve().parent\n",
    "sys.path.append(str(project_root))"
   ]
  },
  {
   "cell_type": "code",
   "execution_count": 31,
   "metadata": {},
   "outputs": [],
   "source": [
    "from dataclasses import dataclass\n",
    "from src.Briefly.utils.common import read_yaml, create_dirs\n",
    "from src.Briefly.constants import *\n",
    "\n",
    "import urllib.request as request\n",
    "import zipfile \n",
    "from src.Briefly.logging import logger"
   ]
  },
  {
   "cell_type": "code",
   "execution_count": 32,
   "metadata": {},
   "outputs": [],
   "source": [
    "CONFIG_PATH = project_root / CONFIG_PATH\n",
    "PARAMS_PATH = project_root / PARAMS_PATH"
   ]
  },
  {
   "cell_type": "markdown",
   "metadata": {},
   "source": [
    "Configurations:"
   ]
  },
  {
   "cell_type": "code",
   "execution_count": 33,
   "metadata": {},
   "outputs": [],
   "source": [
    "@dataclass\n",
    "class DataIngestionConfig:\n",
    "    root_dir: Path\n",
    "    source_url: Path\n",
    "    local_data_file: Path\n",
    "    unzip_dir: Path"
   ]
  },
  {
   "cell_type": "code",
   "execution_count": 34,
   "metadata": {},
   "outputs": [],
   "source": [
    "class ConfigManager: \n",
    "    def __init__(self, config_path: Path = CONFIG_PATH, params_path: Path = PARAMS_PATH):\n",
    "        self.config = read_yaml(config_path) \n",
    "        self.params = read_yaml(params_path)\n",
    "\n",
    "        create_dirs([self.config.artifacts_root])\n",
    "    def get_dataingestion_config(self) -> DataIngestionConfig:\n",
    "        config = self.config.data_ingestion\n",
    "        create_dirs([config.root_dir,])\n",
    "        data_ingestion_config = DataIngestionConfig(\n",
    "            root_dir=config.root_dir,\n",
    "            source_url=config.source_url,\n",
    "            local_data_file=config.local_data_file,\n",
    "            unzip_dir=config.unzip_dir\n",
    "        )\n",
    "        return data_ingestion_config"
   ]
  },
  {
   "cell_type": "markdown",
   "metadata": {},
   "source": [
    "Components:"
   ]
  },
  {
   "cell_type": "code",
   "execution_count": 35,
   "metadata": {},
   "outputs": [],
   "source": [
    "class DataIngestion:\n",
    "    def __init__(self, config: DataIngestionConfig):\n",
    "        self.config = config\n",
    "    def download_file(self):\n",
    "        if not os.path.exists(self.config.local_data_file):\n",
    "            filename, headers = request.urlretrieve(\n",
    "                url= self.config.source_url,\n",
    "                filename= self.config.local_data_file\n",
    "            )\n",
    "            logger.info(f\"Downloaded file from {self.config.source_url} to {filename}\")\n",
    "        else:\n",
    "            logger.info(f\"File already exists at {self.config.local_data_file}\")\n",
    "    def extract_zip_file(self):\n",
    "        unzip_path = self.config.unzip_dir\n",
    "        os.makedirs(unzip_path, exist_ok=True)\n",
    "\n",
    "        with zipfile.ZipFile(self.config.local_data_file, 'r') as zip_ref:\n",
    "            zip_ref.extractall(unzip_path)"
   ]
  },
  {
   "cell_type": "code",
   "execution_count": 36,
   "metadata": {},
   "outputs": [
    {
     "name": "stdout",
     "output_type": "stream",
     "text": [
      "[2025-01-07 14:15:00,877: INFO: common: YaML File: C:\\Users\\ABHINAV\\Desktop\\Programming\\Projects\\Briefly\\config\\config.yaml loaded successfully]\n",
      "[2025-01-07 14:15:00,881: INFO: common: YaML File: C:\\Users\\ABHINAV\\Desktop\\Programming\\Projects\\Briefly\\params.yaml loaded successfully]\n",
      "[2025-01-07 14:15:00,882: INFO: common: Creating directory at: artifacts]\n",
      "[2025-01-07 14:15:00,883: INFO: common: Creating directory at: artifacts/data_ingestion]\n",
      "[2025-01-07 14:15:15,169: INFO: 3922641905: Downloaded file from https://drive.google.com/uc?export=download&id=1nwItANeU32CAD7w56tWIpjN709erAIyv to artifacts/data_ingestion/data.zip]\n"
     ]
    }
   ],
   "source": [
    "config_manager = ConfigManager()\n",
    "data_ingestion_config = config_manager.get_dataingestion_config()\n",
    "\n",
    "data_ingestion = DataIngestion(data_ingestion_config)\n",
    "data_ingestion.download_file()\n",
    "data_ingestion.extract_zip_file()"
   ]
  },
  {
   "cell_type": "code",
   "execution_count": null,
   "metadata": {},
   "outputs": [],
   "source": []
  }
 ],
 "metadata": {
  "kernelspec": {
   "display_name": "venv",
   "language": "python",
   "name": "python3"
  },
  "language_info": {
   "codemirror_mode": {
    "name": "ipython",
    "version": 3
   },
   "file_extension": ".py",
   "mimetype": "text/x-python",
   "name": "python",
   "nbconvert_exporter": "python",
   "pygments_lexer": "ipython3",
   "version": "3.10.0"
  }
 },
 "nbformat": 4,
 "nbformat_minor": 2
}
