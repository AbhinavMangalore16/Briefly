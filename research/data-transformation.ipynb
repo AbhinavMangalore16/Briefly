{
 "cells": [
  {
   "cell_type": "code",
   "execution_count": 1,
   "metadata": {},
   "outputs": [],
   "source": [
    "import os\n",
    "import sys \n",
    "from pathlib import Path\n"
   ]
  },
  {
   "cell_type": "code",
   "execution_count": 2,
   "metadata": {},
   "outputs": [],
   "source": [
    "project_root = Path(__file__).parent.parent if \"__file__\" in locals() else Path().resolve().parent\n",
    "sys.path.append(str(project_root))"
   ]
  },
  {
   "cell_type": "code",
   "execution_count": 11,
   "metadata": {},
   "outputs": [],
   "source": [
    "from dataclasses import dataclass\n",
    "\n",
    "from src.Briefly.constants import * \n",
    "from src.Briefly.utils.common import read_yaml, create_dirs\n",
    "\n",
    "from src.Briefly.logging import logger\n",
    "from transformers import AutoTokenizer\n",
    "from datasets import load_from_disk"
   ]
  },
  {
   "cell_type": "code",
   "execution_count": 9,
   "metadata": {},
   "outputs": [],
   "source": [
    "@dataclass\n",
    "class DataTransformConfig:\n",
    "    root_dir: Path\n",
    "    dataset_path: Path\n",
    "    tokenizer: Path"
   ]
  },
  {
   "cell_type": "markdown",
   "metadata": {},
   "source": [
    "Configuration:"
   ]
  },
  {
   "cell_type": "code",
   "execution_count": 10,
   "metadata": {},
   "outputs": [],
   "source": [
    "class ConfigManager: \n",
    "    def __init__(self, config_path: Path = CONFIG_PATH, params_path: Path = PARAMS_PATH):\n",
    "        self.config = read_yaml(config_path) \n",
    "        self.params = read_yaml(params_path)\n",
    "\n",
    "        create_dirs([self.config.artifacts_root])\n",
    "    \n",
    "    def get_datatransform_config(self) -> DataTransformConfig:\n",
    "        config = self.config.data_transform\n",
    "\n",
    "        create_dirs([config.root_dir])\n",
    "\n",
    "        data_transform_config = DataTransformConfig(\n",
    "            root_dir=config.root_dir,\n",
    "            dataset_path=config.dataset_path,\n",
    "            tokenizer=config.tokenizer,\n",
    "        )\n",
    "        return data_transform_config\n"
   ]
  },
  {
   "cell_type": "markdown",
   "metadata": {},
   "source": [
    "Components:"
   ]
  },
  {
   "cell_type": "code",
   "execution_count": null,
   "metadata": {},
   "outputs": [],
   "source": [
    "class DataTransform:\n",
    "    def __init__(self, config:DataTransformConfig):\n",
    "        self.config = config\n",
    "        self.tokenizer = AutoTokenizer.from_pretrained(config.tokenizer)\n",
    "    def features_maker(self, example_batch):\n",
    "        input_encodings = self.tokenizer(example_batch['dialogue'] , max_length = 1024, truncation = True )\n",
    "\n",
    "        with self.tokenizer.as_target_tokenizer():\n",
    "            target_encodings = self.tokenizer(example_batch['summary'], max_length = 128, truncation = True )\n",
    "\n",
    "        return {\n",
    "            'input_ids' : input_encodings['input_ids'],\n",
    "            'attention_mask': input_encodings['attention_mask'],\n",
    "            'labels': target_encodings['input_ids']\n",
    "        }"
   ]
  }
 ],
 "metadata": {
  "kernelspec": {
   "display_name": "venv",
   "language": "python",
   "name": "python3"
  },
  "language_info": {
   "codemirror_mode": {
    "name": "ipython",
    "version": 3
   },
   "file_extension": ".py",
   "mimetype": "text/x-python",
   "name": "python",
   "nbconvert_exporter": "python",
   "pygments_lexer": "ipython3",
   "version": "3.10.0"
  }
 },
 "nbformat": 4,
 "nbformat_minor": 2
}
