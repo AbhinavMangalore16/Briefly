{
 "cells": [
  {
   "cell_type": "code",
   "execution_count": 1,
   "metadata": {},
   "outputs": [],
   "source": [
    "import os\n",
    "import sys \n",
    "from pathlib import Path\n"
   ]
  },
  {
   "cell_type": "code",
   "execution_count": 2,
   "metadata": {},
   "outputs": [],
   "source": [
    "project_root = Path(__file__).parent.parent if \"__file__\" in locals() else Path().resolve().parent\n",
    "sys.path.append(str(project_root))"
   ]
  },
  {
   "cell_type": "code",
   "execution_count": 3,
   "metadata": {},
   "outputs": [
    {
     "name": "stderr",
     "output_type": "stream",
     "text": [
      "c:\\Users\\ABHINAV\\Desktop\\Programming\\Projects\\Briefly\\venv\\lib\\site-packages\\tqdm\\auto.py:21: TqdmWarning: IProgress not found. Please update jupyter and ipywidgets. See https://ipywidgets.readthedocs.io/en/stable/user_install.html\n",
      "  from .autonotebook import tqdm as notebook_tqdm\n"
     ]
    },
    {
     "name": "stdout",
     "output_type": "stream",
     "text": [
      "[2025-01-08 03:01:05,280: INFO: config: PyTorch version 2.5.1+cu118 available.]\n"
     ]
    }
   ],
   "source": [
    "from dataclasses import dataclass\n",
    "\n",
    "from src.Briefly.constants import * \n",
    "from src.Briefly.utils.common import read_yaml, create_dirs\n",
    "\n",
    "from src.Briefly.logging import logger\n",
    "from transformers import AutoTokenizer\n",
    "from datasets import load_from_disk"
   ]
  },
  {
   "cell_type": "code",
   "execution_count": 4,
   "metadata": {},
   "outputs": [],
   "source": [
    "CONFIG_PATH = project_root / CONFIG_PATH\n",
    "PARAMS_PATH = project_root / PARAMS_PATH"
   ]
  },
  {
   "cell_type": "code",
   "execution_count": 5,
   "metadata": {},
   "outputs": [],
   "source": [
    "@dataclass\n",
    "class DataTransformConfig:\n",
    "    root_dir: Path\n",
    "    dataset_path: Path\n",
    "    tokenizer: Path"
   ]
  },
  {
   "cell_type": "markdown",
   "metadata": {},
   "source": [
    "Configuration:"
   ]
  },
  {
   "cell_type": "code",
   "execution_count": 6,
   "metadata": {},
   "outputs": [],
   "source": [
    "class ConfigManager: \n",
    "    def __init__(self, config_path: Path = CONFIG_PATH, params_path: Path = PARAMS_PATH):\n",
    "        self.config = read_yaml(config_path) \n",
    "        self.params = read_yaml(params_path)\n",
    "\n",
    "        create_dirs([self.config.artifacts_root])\n",
    "    \n",
    "    def get_datatransform_config(self) -> DataTransformConfig:\n",
    "        config = self.config.data_transform\n",
    "\n",
    "        create_dirs([config.root_dir])\n",
    "\n",
    "        data_transform_config = DataTransformConfig(\n",
    "            root_dir=config.root_dir,\n",
    "            dataset_path=config.dataset_path,\n",
    "            tokenizer=config.tokenizer,\n",
    "        )\n",
    "        return data_transform_config\n"
   ]
  },
  {
   "cell_type": "markdown",
   "metadata": {},
   "source": [
    "Components:"
   ]
  },
  {
   "cell_type": "code",
   "execution_count": 7,
   "metadata": {},
   "outputs": [],
   "source": [
    "class DataTransform:\n",
    "    def __init__(self, config:DataTransformConfig):\n",
    "        self.config = config\n",
    "        self.tokenizer = AutoTokenizer.from_pretrained(config.tokenizer)\n",
    "    def features_maker(self, example_batch):\n",
    "        input_encodings = self.tokenizer(example_batch['dialogue'] , max_length = 1024, truncation = True )\n",
    "\n",
    "        with self.tokenizer.as_target_tokenizer():\n",
    "            target_encodings = self.tokenizer(example_batch['summary'], max_length = 128, truncation = True )\n",
    "\n",
    "        return {\n",
    "            'input_ids' : input_encodings['input_ids'],\n",
    "            'attention_mask': input_encodings['attention_mask'],\n",
    "            'labels': target_encodings['input_ids']\n",
    "        }\n",
    "    def dataset_transform(self):\n",
    "        samsum_data = load_from_disk(self.config.dataset_path)\n",
    "        samsum_data_pt = samsum_data.map(self.features_maker, batched=True)\n",
    "        samsum_data_pt.save_to_disk(os.path.join(self.config.root_dir, \"samsum_dataset\"))\n",
    "\n",
    "        "
   ]
  },
  {
   "cell_type": "code",
   "execution_count": 8,
   "metadata": {},
   "outputs": [
    {
     "name": "stdout",
     "output_type": "stream",
     "text": [
      "[2025-01-08 03:01:05,541: INFO: common: YaML File: C:\\Users\\ABHINAV\\Desktop\\Programming\\Projects\\Briefly\\config\\config.yaml loaded successfully]\n",
      "[2025-01-08 03:01:05,541: INFO: common: YaML File: C:\\Users\\ABHINAV\\Desktop\\Programming\\Projects\\Briefly\\params.yaml loaded successfully]\n",
      "[2025-01-08 03:01:05,541: INFO: common: Creating directory at: artifacts]\n",
      "[2025-01-08 03:01:05,541: INFO: common: Creating directory at: artifacts/data_transform]\n"
     ]
    },
    {
     "name": "stderr",
     "output_type": "stream",
     "text": [
      "Map:   0%|          | 0/14732 [00:00<?, ? examples/s]c:\\Users\\ABHINAV\\Desktop\\Programming\\Projects\\Briefly\\venv\\lib\\site-packages\\transformers\\tokenization_utils_base.py:3953: UserWarning: `as_target_tokenizer` is deprecated and will be removed in v5 of Transformers. You can tokenize your labels by using the argument `text_target` of the regular `__call__` method (either in the same call as your input texts if you use the same keyword arguments, or in a separate call.\n",
      "  warnings.warn(\n",
      "Map: 100%|██████████| 14732/14732 [00:01<00:00, 10641.79 examples/s]\n",
      "Map: 100%|██████████| 819/819 [00:00<00:00, 9648.06 examples/s]\n",
      "Map: 100%|██████████| 818/818 [00:00<00:00, 9179.82 examples/s]\n",
      "Saving the dataset (1/1 shards): 100%|██████████| 14732/14732 [00:00<00:00, 776887.03 examples/s]\n",
      "Saving the dataset (1/1 shards): 100%|██████████| 819/819 [00:00<00:00, 163429.99 examples/s]\n",
      "Saving the dataset (1/1 shards): 100%|██████████| 818/818 [00:00<00:00, 204441.70 examples/s]\n"
     ]
    }
   ],
   "source": [
    "config = ConfigManager()\n",
    "data_transform_config = config.get_datatransform_config()\n",
    "data_transform = DataTransform(data_transform_config)\n",
    "data_transform.dataset_transform()"
   ]
  }
 ],
 "metadata": {
  "kernelspec": {
   "display_name": "venv",
   "language": "python",
   "name": "python3"
  },
  "language_info": {
   "codemirror_mode": {
    "name": "ipython",
    "version": 3
   },
   "file_extension": ".py",
   "mimetype": "text/x-python",
   "name": "python",
   "nbconvert_exporter": "python",
   "pygments_lexer": "ipython3",
   "version": "3.10.0"
  }
 },
 "nbformat": 4,
 "nbformat_minor": 2
}
