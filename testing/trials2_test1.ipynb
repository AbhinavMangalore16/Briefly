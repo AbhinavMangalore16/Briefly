{
 "cells": [
  {
   "cell_type": "code",
   "execution_count": 1,
   "metadata": {},
   "outputs": [
    {
     "name": "stderr",
     "output_type": "stream",
     "text": [
      "c:\\Users\\ABHINAV\\Desktop\\Programming\\Projects\\Briefly\\venv\\lib\\site-packages\\tqdm\\auto.py:21: TqdmWarning: IProgress not found. Please update jupyter and ipywidgets. See https://ipywidgets.readthedocs.io/en/stable/user_install.html\n",
      "  from .autonotebook import tqdm as notebook_tqdm\n"
     ]
    }
   ],
   "source": [
    "import torch\n",
    "from transformers import AutoModelForSeq2SeqLM, AutoTokenizer\n",
    "\n",
    "# Load tokenizer and model\n",
    "tokenizer = AutoTokenizer.from_pretrained('../research/tokenix-textsum-v1')\n",
    "model = AutoModelForSeq2SeqLM.from_pretrained('../research/textsum-v1-model')\n",
    "\n",
    "def summarize_text(text):\n",
    "    inputs = tokenizer.encode(\"summarize: \" + text, return_tensors=\"pt\", max_length=512, truncation=True)\n",
    "    summary_ids = model.generate(inputs, max_length=150, min_length=40, length_penalty=2.0, num_beams=4, early_stopping=True)\n",
    "    return tokenizer.decode(summary_ids[0], skip_special_tokens=True)"
   ]
  },
  {
   "cell_type": "code",
   "execution_count": 4,
   "metadata": {},
   "outputs": [
    {
     "name": "stdout",
     "output_type": "stream",
     "text": [
      "colour therapy is a complementary therapy for which there is evidence dating back thousands of years to the ancient cultures of Egypt, China and India. colour therapy can help to re-balance and stimulate these energies by applying the appropriate colour to the body. the energy of colour affects us on all levels, that is to say, physical, spiritual and emotional.\n"
     ]
    }
   ],
   "source": [
    "text = \"\"\"\n",
    "1. Colour Therapy is a complementary therapy for which there is evidence dating back thousands of years to the ancient cultures of Egypt, China and India. If we define it in simple terms, Colour is a light of varying wavelengths, thus each colour has its own particular wavelength and energy.\n",
    "\n",
    "2. Colours contribute to energy. This energy may be motivational and encouraging. Each of the seven colours of the spectrum are associated with energy. The energy relating to each of the seven spectrum colours of red, orange, yellow, green, blue, indigo and violet, resonates with the energy of each of the seven main chakras/energy centres of the body. Colour therapy can help to re-balance and/or stimulate these energies by applying the appropriate colour to the body.\n",
    "\n",
    "3. Red relates to the base chakra, orange the sacral chakra, yellow the solar plexus chakra, green the heart chakra, blue the throat chakra, indigo the brow chakra (sometimes referred to as the third eye) and violet relates to the crown chakra.\n",
    "\n",
    "4. Colour is absorbed by the eyes, skin, skull, our ‘magnetic energy field’ or aura and the energy of colour affects us on all levels, that is to say, physical, spiritual and emotional. Every cell in the body needs light energy – thus colour energy has widespread effects on the whole body. There are many different ways of giving colour, including; Solarised Water, Light boxes/lamps with colour filters, colour silks and hands on healing using colour.\n",
    "\n",
    "5. Colour therapy can be shown to help on a physical level, which is perhaps easier to quantify, however there are deeper issues around the colours on the psychological and spiritual levels. Our wellbeing is not, of course, purely a physical issue. Fortunately, many more practitioners, both orthodox and complementary, are now treating patients in a holistic manner.\n",
    "\n",
    "6. Colour Therapy is a totally holistic and non-invasive therapy and, really, colour should be a part of our everyday life, not just something we experience for an hour or two with a therapist. Colour is all around us everywhere. This wonderful planet does not contain all the beautiful colours of the rainbow for no reason. Nothing on this earth is here just by chance; everything in nature is here for a purpose. Colour is no exception. All we need to do is to heighten our awareness of the energy of colour, absorb it and see how it can transform our lives.\n",
    "\"\"\"\n",
    "print(summarize_text(text))"
   ]
  },
  {
   "cell_type": "code",
   "execution_count": null,
   "metadata": {},
   "outputs": [],
   "source": []
  }
 ],
 "metadata": {
  "kernelspec": {
   "display_name": "venv",
   "language": "python",
   "name": "python3"
  },
  "language_info": {
   "codemirror_mode": {
    "name": "ipython",
    "version": 3
   },
   "file_extension": ".py",
   "mimetype": "text/x-python",
   "name": "python",
   "nbconvert_exporter": "python",
   "pygments_lexer": "ipython3",
   "version": "3.10.0"
  }
 },
 "nbformat": 4,
 "nbformat_minor": 2
}
